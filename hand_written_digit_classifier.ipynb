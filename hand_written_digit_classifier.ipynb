{
  "nbformat": 4,
  "nbformat_minor": 0,
  "metadata": {
    "colab": {
      "name": "SONU_BATCH_7_DNN.ipynb",
      "version": "0.3.2",
      "views": {},
      "default_view": {},
      "provenance": [
        {
          "file_id": "1JURGwe4e5Z7928Zv2eiJVPCQNc702huM",
          "timestamp": 1521864568638
        }
      ],
      "collapsed_sections": []
    },
    "kernelspec": {
      "name": "python3",
      "display_name": "Python 3"
    },
    "accelerator": "GPU"
  },
  "cells": [
    {
      "metadata": {
        "id": "aNyZv-Ec52ot",
        "colab_type": "text"
      },
      "cell_type": "markdown",
      "source": [
        "# **Import Libraries and modules**"
      ]
    },
    {
      "metadata": {
        "id": "3m3w1Cw49Zkt",
        "colab_type": "code",
        "colab": {
          "autoexec": {
            "startup": false,
            "wait_interval": 0
          },
          "base_uri": "https://localhost:8080/",
          "height": 34
        },
        "outputId": "ae371962-dee8-4de6-d86f-01f7155a427a",
        "executionInfo": {
          "status": "ok",
          "timestamp": 1526823541245,
          "user_tz": -330,
          "elapsed": 4395,
          "user": {
            "displayName": "Sonu Kumar Giri",
            "photoUrl": "//lh4.googleusercontent.com/-pRWpKhOddaM/AAAAAAAAAAI/AAAAAAAAAOg/1vnerVd0IoY/s50-c-k-no/photo.jpg",
            "userId": "100774849365933850598"
          }
        }
      },
      "cell_type": "code",
      "source": [
        "# https://keras.io/\n",
        "!pip install -q keras\n",
        "import keras"
      ],
      "execution_count": 1,
      "outputs": [
        {
          "output_type": "stream",
          "text": [
            "Using TensorFlow backend.\n"
          ],
          "name": "stderr"
        }
      ]
    },
    {
      "metadata": {
        "id": "Eso6UHE080D4",
        "colab_type": "code",
        "colab": {
          "autoexec": {
            "startup": false,
            "wait_interval": 0
          }
        }
      },
      "cell_type": "code",
      "source": [
        "import numpy as np\n",
        "\n",
        "from keras.models import Sequential\n",
        "from keras.layers import Dense, Dropout, Activation, Flatten, Add\n",
        "from keras.layers import Convolution2D, MaxPooling2D\n",
        "from keras.utils import np_utils\n",
        "\n",
        "from keras.datasets import mnist"
      ],
      "execution_count": 0,
      "outputs": []
    },
    {
      "metadata": {
        "id": "zByEi95J86RD",
        "colab_type": "text"
      },
      "cell_type": "markdown",
      "source": [
        "### Load pre-shuffled MNIST data into train and test sets"
      ]
    },
    {
      "metadata": {
        "id": "7eRM0QWN83PV",
        "colab_type": "code",
        "colab": {
          "autoexec": {
            "startup": false,
            "wait_interval": 0
          }
        }
      },
      "cell_type": "code",
      "source": [
        "(X_train, y_train), (X_test, y_test) = mnist.load_data()"
      ],
      "execution_count": 0,
      "outputs": []
    },
    {
      "metadata": {
        "id": "4a4Be72j8-ZC",
        "colab_type": "code",
        "colab": {
          "autoexec": {
            "startup": false,
            "wait_interval": 0
          },
          "base_uri": "https://localhost:8080/",
          "height": 299
        },
        "outputId": "1d960821-b9f0-498a-afab-4d5cc91ebb5b",
        "executionInfo": {
          "status": "ok",
          "timestamp": 1526823618049,
          "user_tz": -330,
          "elapsed": 1006,
          "user": {
            "displayName": "Sonu Kumar Giri",
            "photoUrl": "//lh4.googleusercontent.com/-pRWpKhOddaM/AAAAAAAAAAI/AAAAAAAAAOg/1vnerVd0IoY/s50-c-k-no/photo.jpg",
            "userId": "100774849365933850598"
          }
        }
      },
      "cell_type": "code",
      "source": [
        "print (X_train.shape)\n",
        "from matplotlib import pyplot as plt\n",
        "%matplotlib inline\n",
        "plt.imshow(X_train[0])"
      ],
      "execution_count": 5,
      "outputs": [
        {
          "output_type": "stream",
          "text": [
            "(60000, 28, 28)\n"
          ],
          "name": "stdout"
        },
        {
          "output_type": "execute_result",
          "data": {
            "text/plain": [
              "<matplotlib.image.AxesImage at 0x7f67fc08a160>"
            ]
          },
          "metadata": {
            "tags": []
          },
          "execution_count": 5
        },
        {
          "output_type": "display_data",
          "data": {
            "image/png": "[encoded data removed]",
            "text/plain": [
              "<matplotlib.figure.Figure at 0x7f67fc0f6f98>"
            ]
          },
          "metadata": {
            "tags": []
          }
        }
      ]
    },
    {
      "metadata": {
        "id": "dkmprriw9AnZ",
        "colab_type": "code",
        "colab": {
          "autoexec": {
            "startup": false,
            "wait_interval": 0
          }
        }
      },
      "cell_type": "code",
      "source": [
        "X_train = X_train.reshape(X_train.shape[0], 28, 28,1)\n",
        "X_test = X_test.reshape(X_test.shape[0], 28, 28,1)"
      ],
      "execution_count": 0,
      "outputs": []
    },
    {
      "metadata": {
        "id": "X2m4YS4E9CRh",
        "colab_type": "code",
        "colab": {
          "autoexec": {
            "startup": false,
            "wait_interval": 0
          }
        }
      },
      "cell_type": "code",
      "source": [
        "X_train = X_train.astype('float32')\n",
        "X_test = X_test.astype('float32')\n",
        "X_train /= 255\n",
        "X_test /= 255"
      ],
      "execution_count": 0,
      "outputs": []
    },
    {
      "metadata": {
        "id": "0Mn0vAYD9DvB",
        "colab_type": "code",
        "colab": {
          "autoexec": {
            "startup": false,
            "wait_interval": 0
          },
          "base_uri": "https://localhost:8080/",
          "height": 34
        },
        "outputId": "9ee53553-44ad-4a8b-bfe9-cce541b44c6c",
        "executionInfo": {
          "status": "ok",
          "timestamp": 1526823699351,
          "user_tz": -330,
          "elapsed": 982,
          "user": {
            "displayName": "Sonu Kumar Giri",
            "photoUrl": "//lh4.googleusercontent.com/-pRWpKhOddaM/AAAAAAAAAAI/AAAAAAAAAOg/1vnerVd0IoY/s50-c-k-no/photo.jpg",
            "userId": "100774849365933850598"
          }
        }
      },
      "cell_type": "code",
      "source": [
        "y_train[:10]"
      ],
      "execution_count": 8,
      "outputs": [
        {
          "output_type": "execute_result",
          "data": {
            "text/plain": [
              "array([5, 0, 4, 1, 9, 2, 1, 3, 1, 4], dtype=uint8)"
            ]
          },
          "metadata": {
            "tags": []
          },
          "execution_count": 8
        }
      ]
    },
    {
      "metadata": {
        "id": "ZG8JiXR39FHC",
        "colab_type": "code",
        "colab": {
          "autoexec": {
            "startup": false,
            "wait_interval": 0
          }
        }
      },
      "cell_type": "code",
      "source": [
        "# Convert 1-dimensional class arrays to 10-dimensional class matrices\n",
        "Y_train = np_utils.to_categorical(y_train, 10)\n",
        "Y_test = np_utils.to_categorical(y_test, 10)"
      ],
      "execution_count": 0,
      "outputs": []
    },
    {
      "metadata": {
        "id": "fYlFRvKS9HMB",
        "colab_type": "code",
        "colab": {
          "autoexec": {
            "startup": false,
            "wait_interval": 0
          },
          "base_uri": "https://localhost:8080/",
          "height": 187
        },
        "outputId": "b4fcf53a-4580-425b-d8f2-3ee451a5110f",
        "executionInfo": {
          "status": "ok",
          "timestamp": 1526830299862,
          "user_tz": -330,
          "elapsed": 761,
          "user": {
            "displayName": "Sonu Kumar Giri",
            "photoUrl": "//lh4.googleusercontent.com/-pRWpKhOddaM/AAAAAAAAAAI/AAAAAAAAAOg/1vnerVd0IoY/s50-c-k-no/photo.jpg",
            "userId": "100774849365933850598"
          }
        }
      },
      "cell_type": "code",
      "source": [
        "Y_train[:10]\n"
      ],
      "execution_count": 24,
      "outputs": [
        {
          "output_type": "execute_result",
          "data": {
            "text/plain": [
              "array([[0., 0., 0., 0., 0., 1., 0., 0., 0., 0.],\n",
              "       [1., 0., 0., 0., 0., 0., 0., 0., 0., 0.],\n",
              "       [0., 0., 0., 0., 1., 0., 0., 0., 0., 0.],\n",
              "       [0., 1., 0., 0., 0., 0., 0., 0., 0., 0.],\n",
              "       [0., 0., 0., 0., 0., 0., 0., 0., 0., 1.],\n",
              "       [0., 0., 1., 0., 0., 0., 0., 0., 0., 0.],\n",
              "       [0., 1., 0., 0., 0., 0., 0., 0., 0., 0.],\n",
              "       [0., 0., 0., 1., 0., 0., 0., 0., 0., 0.],\n",
              "       [0., 1., 0., 0., 0., 0., 0., 0., 0., 0.],\n",
              "       [0., 0., 0., 0., 1., 0., 0., 0., 0., 0.]], dtype=float32)"
            ]
          },
          "metadata": {
            "tags": []
          },
          "execution_count": 24
        }
      ]
    },
    {
      "metadata": {
        "id": "osKqT73Q9JJB",
        "colab_type": "code",
        "colab": {
          "autoexec": {
            "startup": false,
            "wait_interval": 0
          }
        }
      },
      "cell_type": "code",
      "source": [
        "from keras.layers import Activation\n",
        "model = Sequential()\n",
        "\n",
        "model.add(Convolution2D(32, ( 3, 3 ), activation='relu', input_shape=(28, 28,1)))\n",
        "model.add(MaxPooling2D(pool_size=(2,2)))\n",
        "model.add(Convolution2D(32,(3, 3), activation='relu'))\n",
        "model.add(MaxPooling2D(pool_size=(2,2)))\n",
        "model.add(Convolution2D(16,(3, 3), activation='relu'))\n",
        "model.add(Flatten())\n",
        "model.add(Dense( 256, activation = 'relu' ) )\n",
        "model.add(Dense( 10, activation = 'softmax' ) )"
      ],
      "execution_count": 0,
      "outputs": []
    },
    {
      "metadata": {
        "id": "TzdAYg1k9K7Z",
        "colab_type": "code",
        "colab": {
          "autoexec": {
            "startup": false,
            "wait_interval": 0
          },
          "base_uri": "https://localhost:8080/",
          "height": 408
        },
        "outputId": "268d991b-9bb5-4da3-b436-4d016f2101ab",
        "executionInfo": {
          "status": "ok",
          "timestamp": 1526842645435,
          "user_tz": -330,
          "elapsed": 906,
          "user": {
            "displayName": "Sonu Kumar Giri",
            "photoUrl": "//lh4.googleusercontent.com/-pRWpKhOddaM/AAAAAAAAAAI/AAAAAAAAAOg/1vnerVd0IoY/s50-c-k-no/photo.jpg",
            "userId": "100774849365933850598"
          }
        }
      },
      "cell_type": "code",
      "source": [
        "model.summary()"
      ],
      "execution_count": 301,
      "outputs": [
        {
          "output_type": "stream",
          "text": [
            "_________________________________________________________________\n",
            "Layer (type)                 Output Shape              Param #   \n",
            "=================================================================\n",
            "conv2d_274 (Conv2D)          (None, 26, 26, 32)        320       \n",
            "_________________________________________________________________\n",
            "max_pooling2d_96 (MaxPooling (None, 13, 13, 32)        0         \n",
            "_________________________________________________________________\n",
            "conv2d_275 (Conv2D)          (None, 11, 11, 32)        9248      \n",
            "_________________________________________________________________\n",
            "max_pooling2d_97 (MaxPooling (None, 5, 5, 32)          0         \n",
            "_________________________________________________________________\n",
            "conv2d_276 (Conv2D)          (None, 3, 3, 16)          4624      \n",
            "_________________________________________________________________\n",
            "flatten_68 (Flatten)         (None, 144)               0         \n",
            "_________________________________________________________________\n",
            "dense_88 (Dense)             (None, 256)               37120     \n",
            "_________________________________________________________________\n",
            "dense_89 (Dense)             (None, 10)                2570      \n",
            "=================================================================\n",
            "Total params: 53,882\n",
            "Trainable params: 53,882\n",
            "Non-trainable params: 0\n",
            "_________________________________________________________________\n"
          ],
          "name": "stdout"
        }
      ]
    },
    {
      "metadata": {
        "id": "Zp6SuGrL9M3h",
        "colab_type": "code",
        "colab": {
          "autoexec": {
            "startup": false,
            "wait_interval": 0
          }
        }
      },
      "cell_type": "code",
      "source": [
        "model.compile(loss='categorical_crossentropy',\n",
        "             optimizer='adam',\n",
        "             metrics=['accuracy'])"
      ],
      "execution_count": 0,
      "outputs": []
    },
    {
      "metadata": {
        "id": "4xWoKhPY9Of5",
        "colab_type": "code",
        "colab": {
          "autoexec": {
            "startup": false,
            "wait_interval": 0
          },
          "base_uri": "https://localhost:8080/",
          "height": 428
        },
        "outputId": "e346a157-0c8e-4c77-9fd9-1719499bb1b9",
        "executionInfo": {
          "status": "ok",
          "timestamp": 1526844928662,
          "user_tz": -330,
          "elapsed": 45987,
          "user": {
            "displayName": "Sonu Kumar Giri",
            "photoUrl": "//lh4.googleusercontent.com/-pRWpKhOddaM/AAAAAAAAAAI/AAAAAAAAAOg/1vnerVd0IoY/s50-c-k-no/photo.jpg",
            "userId": "100774849365933850598"
          }
        }
      },
      "cell_type": "code",
      "source": [
        "model.fit(X_train, Y_train, batch_size=256, nb_epoch=10, verbose=1)"
      ],
      "execution_count": 304,
      "outputs": [
        {
          "output_type": "stream",
          "text": [
            "Epoch 1/10\n",
            " 2560/60000 [>.............................] - ETA: 4s - loss: 0.0195 - acc: 0.9941"
          ],
          "name": "stdout"
        },
        {
          "output_type": "stream",
          "text": [
            "/usr/local/lib/python3.6/dist-packages/keras/models.py:981: UserWarning: The `nb_epoch` argument in `fit` has been renamed `epochs`.\n",
            "  warnings.warn('The `nb_epoch` argument in `fit` '\n"
          ],
          "name": "stderr"
        },
        {
          "output_type": "stream",
          "text": [
            "60000/60000 [==============================] - 4s 75us/step - loss: 0.0207 - acc: 0.9935\n",
            "Epoch 2/10\n",
            "60000/60000 [==============================] - 5s 75us/step - loss: 0.0179 - acc: 0.9943\n",
            "Epoch 3/10\n",
            "60000/60000 [==============================] - 4s 75us/step - loss: 0.0186 - acc: 0.9938\n",
            "Epoch 4/10\n",
            "60000/60000 [==============================] - 4s 75us/step - loss: 0.0168 - acc: 0.9948\n",
            "Epoch 5/10\n",
            "40192/60000 [===================>..........] - ETA: 1s - loss: 0.0144 - acc: 0.9952"
          ],
          "name": "stdout"
        },
        {
          "output_type": "stream",
          "text": [
            "60000/60000 [==============================] - 4s 75us/step - loss: 0.0148 - acc: 0.9949\n",
            "Epoch 6/10\n",
            "60000/60000 [==============================] - 4s 73us/step - loss: 0.0133 - acc: 0.9959\n",
            "Epoch 7/10\n",
            "60000/60000 [==============================] - 4s 73us/step - loss: 0.0119 - acc: 0.9962\n",
            "Epoch 8/10\n",
            "60000/60000 [==============================] - 4s 73us/step - loss: 0.0114 - acc: 0.9964\n",
            "Epoch 9/10\n",
            "47104/60000 [======================>.......] - ETA: 0s - loss: 0.0094 - acc: 0.9969"
          ],
          "name": "stdout"
        },
        {
          "output_type": "stream",
          "text": [
            "60000/60000 [==============================] - 4s 72us/step - loss: 0.0107 - acc: 0.9966\n",
            "Epoch 10/10\n",
            "60000/60000 [==============================] - 4s 73us/step - loss: 0.0092 - acc: 0.9971\n"
          ],
          "name": "stdout"
        },
        {
          "output_type": "execute_result",
          "data": {
            "text/plain": [
              "<keras.callbacks.History at 0x7f67bbf13358>"
            ]
          },
          "metadata": {
            "tags": []
          },
          "execution_count": 304
        }
      ]
    },
    {
      "metadata": {
        "id": "AtsH-lLk-eLb",
        "colab_type": "code",
        "colab": {
          "autoexec": {
            "startup": false,
            "wait_interval": 0
          }
        }
      },
      "cell_type": "code",
      "source": [
        "score = model.evaluate(X_test, Y_test, verbose=0)"
      ],
      "execution_count": 0,
      "outputs": []
    },
    {
      "metadata": {
        "id": "mkX8JMv79q9r",
        "colab_type": "code",
        "colab": {
          "autoexec": {
            "startup": false,
            "wait_interval": 0
          },
          "base_uri": "https://localhost:8080/",
          "height": 34
        },
        "outputId": "2b91f442-0952-4554-fea1-dacae3286950",
        "executionInfo": {
          "status": "ok",
          "timestamp": 1526844963764,
          "user_tz": -330,
          "elapsed": 1032,
          "user": {
            "displayName": "Sonu Kumar Giri",
            "photoUrl": "//lh4.googleusercontent.com/-pRWpKhOddaM/AAAAAAAAAAI/AAAAAAAAAOg/1vnerVd0IoY/s50-c-k-no/photo.jpg",
            "userId": "100774849365933850598"
          }
        }
      },
      "cell_type": "code",
      "source": [
        "print(score)"
      ],
      "execution_count": 306,
      "outputs": [
        {
          "output_type": "stream",
          "text": [
            "[0.03332020505555265, 0.9905]\n"
          ],
          "name": "stdout"
        }
      ]
    },
    {
      "metadata": {
        "id": "OCWoJkwE9suh",
        "colab_type": "code",
        "colab": {
          "autoexec": {
            "startup": false,
            "wait_interval": 0
          }
        }
      },
      "cell_type": "code",
      "source": [
        "y_pred = model.predict(X_test)"
      ],
      "execution_count": 0,
      "outputs": []
    },
    {
      "metadata": {
        "id": "Ym7iCFBm9uBs",
        "colab_type": "code",
        "colab": {
          "autoexec": {
            "startup": false,
            "wait_interval": 0
          },
          "base_uri": "https://localhost:8080/",
          "height": 493
        },
        "outputId": "68105cca-f163-4ab0-bc8a-b759b0167f85",
        "executionInfo": {
          "status": "ok",
          "timestamp": 1526845025036,
          "user_tz": -330,
          "elapsed": 1031,
          "user": {
            "displayName": "Sonu Kumar Giri",
            "photoUrl": "//lh4.googleusercontent.com/-pRWpKhOddaM/AAAAAAAAAAI/AAAAAAAAAOg/1vnerVd0IoY/s50-c-k-no/photo.jpg",
            "userId": "100774849365933850598"
          }
        }
      },
      "cell_type": "code",
      "source": [
        "print(y_pred[:9])\n",
        "print(y_test[:9])"
      ],
      "execution_count": 308,
      "outputs": [
        {
          "output_type": "stream",
          "text": [
            "[[2.05455697e-09 1.56708126e-07 1.69940245e-06 3.14806221e-06\n",
            "  1.68654410e-10 3.75913536e-11 8.10856157e-12 9.99992967e-01\n",
            "  2.02638102e-08 2.05240781e-06]\n",
            " [4.28211550e-10 2.14305373e-07 9.99999762e-01 2.23521237e-15\n",
            "  5.50429710e-13 3.14393205e-13 2.75919576e-09 6.41052641e-13\n",
            "  2.36580009e-11 2.57872590e-16]\n",
            " [8.87779805e-09 9.99998808e-01 2.31457964e-08 3.31303110e-11\n",
            "  7.09057815e-07 1.37512535e-08 7.05228320e-10 5.13288910e-07\n",
            "  8.69380656e-09 4.65294514e-09]\n",
            " [9.99983311e-01 1.66004398e-11 1.24126078e-08 1.13355655e-13\n",
            "  4.21178648e-09 1.01479034e-10 1.66582358e-05 5.08717824e-14\n",
            "  1.14387701e-10 3.78238330e-09]\n",
            " [6.68328587e-11 7.68699774e-12 4.58625716e-12 1.53083926e-12\n",
            "  9.99987602e-01 3.19384926e-12 2.77263462e-10 8.37621292e-11\n",
            "  1.22628325e-08 1.24388444e-05]\n",
            " [1.47285528e-09 9.99994755e-01 1.11735843e-09 4.91818175e-13\n",
            "  4.44431159e-08 1.53196102e-11 2.67329236e-12 5.15444526e-06\n",
            "  1.53183977e-09 5.16385423e-09]\n",
            " [8.40183839e-14 3.28356203e-10 2.67374525e-11 6.64509843e-13\n",
            "  9.99797523e-01 6.55643248e-12 4.94143843e-14 1.47093466e-08\n",
            "  1.21826219e-04 8.06571697e-05]\n",
            " [1.40134879e-13 6.83958945e-10 2.40655391e-12 2.82093513e-08\n",
            "  4.25774888e-05 2.37821041e-10 4.32454987e-17 4.58097171e-11\n",
            "  1.40385366e-08 9.99957442e-01]\n",
            " [2.32729502e-09 3.66071021e-07 5.97831923e-11 6.64603303e-11\n",
            "  4.29152980e-09 9.48532403e-01 5.11052758e-02 4.04578288e-10\n",
            "  3.61912302e-04 7.00379577e-09]]\n",
            "[7 2 1 0 4 1 4 9 5]\n"
          ],
          "name": "stdout"
        }
      ]
    },
    {
      "metadata": {
        "id": "CT--y98_dr2T",
        "colab_type": "code",
        "colab": {
          "autoexec": {
            "startup": false,
            "wait_interval": 0
          },
          "base_uri": "https://localhost:8080/",
          "height": 54
        },
        "outputId": "a6bbb269-7954-4b4f-dfc9-f650642405c1",
        "executionInfo": {
          "status": "ok",
          "timestamp": 1526845160349,
          "user_tz": -330,
          "elapsed": 966,
          "user": {
            "displayName": "Sonu Kumar Giri",
            "photoUrl": "//lh4.googleusercontent.com/-pRWpKhOddaM/AAAAAAAAAAI/AAAAAAAAAOg/1vnerVd0IoY/s50-c-k-no/photo.jpg",
            "userId": "100774849365933850598"
          }
        }
      },
      "cell_type": "code",
      "source": [
        "layer_dict = dict([(layer.name, layer) for layer in model.layers])\n",
        "print(layer_dict)"
      ],
      "execution_count": 317,
      "outputs": [
        {
          "output_type": "stream",
          "text": [
            "{'conv2d_274': <keras.layers.convolutional.Conv2D object at 0x7f67bcc86320>, 'max_pooling2d_96': <keras.layers.pooling.MaxPooling2D object at 0x7f67bcc86630>, 'conv2d_275': <keras.layers.convolutional.Conv2D object at 0x7f67bcc863c8>, 'max_pooling2d_97': <keras.layers.pooling.MaxPooling2D object at 0x7f67bc6cc1d0>, 'conv2d_276': <keras.layers.convolutional.Conv2D object at 0x7f67bcc8c518>, 'flatten_68': <keras.layers.core.Flatten object at 0x7f67bc6e0da0>, 'dense_88': <keras.layers.core.Dense object at 0x7f67bc6f4400>, 'dense_89': <keras.layers.core.Dense object at 0x7f67bc68bda0>}\n"
          ],
          "name": "stdout"
        }
      ]
    },
    {
      "metadata": {
        "id": "2GY4Upv4dsUR",
        "colab_type": "code",
        "colab": {
          "autoexec": {
            "startup": false,
            "wait_interval": 0
          },
          "base_uri": "https://localhost:8080/",
          "height": 839
        },
        "outputId": "fdd84718-9992-4431-b3d2-80dbc73a3c8c",
        "executionInfo": {
          "status": "ok",
          "timestamp": 1526845835400,
          "user_tz": -330,
          "elapsed": 51420,
          "user": {
            "displayName": "Sonu Kumar Giri",
            "photoUrl": "//lh4.googleusercontent.com/-pRWpKhOddaM/AAAAAAAAAAI/AAAAAAAAAOg/1vnerVd0IoY/s50-c-k-no/photo.jpg",
            "userId": "100774849365933850598"
          }
        }
      },
      "cell_type": "code",
      "source": [
        "import numpy as np\n",
        "from matplotlib import pyplot as plt\n",
        "from keras import backend as K\n",
        "%matplotlib inline\n",
        "# util function to convert a tensor into a valid image\n",
        "def deprocess_image(x):\n",
        "    # normalize tensor: center on 0., ensure std is 0.1\n",
        "    x -= x.mean()\n",
        "    x /= (x.std() + 1e-5)\n",
        "    x *= 0.1\n",
        "\n",
        "    # clip to [0, 1]\n",
        "    x += 0.5\n",
        "    x = np.clip(x, 0, 1)\n",
        "\n",
        "    # convert to RGB array\n",
        "    x *= 255\n",
        "    #x = x.transpose((1, 2, 0))\n",
        "    x = np.clip(x, 0, 255).astype('uint8')\n",
        "    return x\n",
        "\n",
        "def vis_img_in_filter(img = np.array(X_train[2]).reshape((1, 28, 28, 1)).astype(np.float64), \n",
        "                      layer_name = 'max_pooling2d_96'):\n",
        "    layer_output = layer_dict[layer_name].output\n",
        "    img_ascs = list()\n",
        "    for filter_index in range(layer_output.shape[3]):\n",
        "        # build a loss function that maximizes the activation\n",
        "        # of the nth filter of the layer considered\n",
        "        loss = K.mean(layer_output[:, :, :, filter_index])\n",
        "\n",
        "        # compute the gradient of the input picture wrt this loss\n",
        "        grads = K.gradients(loss, model.input)[0]\n",
        "\n",
        "        # normalization trick: we normalize the gradient\n",
        "        grads /= (K.sqrt(K.mean(K.square(grads))) + 1e-5)\n",
        "\n",
        "        # this function returns the loss and grads given the input picture\n",
        "        iterate = K.function([model.input], [loss, grads])\n",
        "\n",
        "        # step size for gradient ascent\n",
        "        step = 5.\n",
        "\n",
        "        img_asc = np.array(img)\n",
        "        # run gradient ascent for 20 steps\n",
        "        for i in range(20):\n",
        "            loss_value, grads_value = iterate([img_asc])\n",
        "            img_asc += grads_value * step\n",
        "\n",
        "        img_asc = img_asc[0]\n",
        "        img_ascs.append(deprocess_image(img_asc).reshape((28, 28)))\n",
        "        \n",
        "    if layer_output.shape[3] >= 35:\n",
        "        plot_x, plot_y = 6, 6\n",
        "    elif layer_output.shape[3] >= 23:\n",
        "        plot_x, plot_y = 4, 6\n",
        "    elif layer_output.shape[3] >= 11:\n",
        "        plot_x, plot_y = 2, 6\n",
        "    else:\n",
        "        plot_x, plot_y = 1, 2\n",
        "    fig, ax = plt.subplots(plot_x, plot_y, figsize = (12, 12))\n",
        "    ax[0, 0].imshow(img.reshape((28, 28)), cmap = 'gray')\n",
        "    ax[0, 0].set_title('Input image')\n",
        "    fig.suptitle('Input image and %s filters' % (layer_name,))\n",
        "    fig.tight_layout(pad = 0.3, rect = [0, 0, 0.9, 0.9])\n",
        "    for (x, y) in [(i, j) for i in range(plot_x) for j in range(plot_y)]:\n",
        "        if x == 0 and y == 0:\n",
        "            continue\n",
        "        ax[x, y].imshow(img_ascs[x * plot_y + y - 1], cmap = 'gray')\n",
        "        ax[x, y].set_title('filter %d' % (x * plot_y + y - 1))\n",
        "\n",
        "vis_img_in_filter()"
      ],
      "execution_count": 322,
      "outputs": [
        {
          "output_type": "display_data",
          "data": {
            "image/png": "[encoded data removed]",
            "text/plain": [
              "<matplotlib.figure.Figure at 0x7f67a182acf8>"
            ]
          },
          "metadata": {
            "tags": []
          }
        }
      ]
    },
    {
      "metadata": {
        "id": "9tvptcn8dxvp",
        "colab_type": "code",
        "colab": {
          "autoexec": {
            "startup": false,
            "wait_interval": 0
          }
        }
      },
      "cell_type": "code",
      "source": [
        ""
      ],
      "execution_count": 0,
      "outputs": []
    }
  ]
}