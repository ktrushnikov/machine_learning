{
  "nbformat": 4,
  "nbformat_minor": 0,
  "metadata": {
    "colab": {
      "name": "3A_SONU_GIRI_BATCH_6.ipynb",
      "version": "0.3.2",
      "provenance": [],
      "collapsed_sections": [],
      "toc_visible": true
    },
    "kernelspec": {
      "name": "python3",
      "display_name": "Python 3"
    },
    "accelerator": "GPU"
  },
  "cells": [
    {
      "metadata": {
        "id": "aNyZv-Ec52ot",
        "colab_type": "text"
      },
      "cell_type": "markdown",
      "source": [
        "# Sonu Giri\n",
        "# Batch 6\n",
        "# Assignment 3A\n",
        "\n",
        "Achieve 99.22 accuracy without using fully-connected layer( aka Dense Layer) with parameters less than 18000.\n",
        "\n",
        "Result: We achieved 99.22 accuracy with ~16000 parameters\n",
        "\n",
        "# **Import Libraries and modules**"
      ]
    },
    {
      "metadata": {
        "id": "3m3w1Cw49Zkt",
        "colab_type": "code",
        "colab": {}
      },
      "cell_type": "code",
      "source": [
        "# https://keras.io/\n",
        "\n",
        "!pip install -q keras\n",
        "import keras"
      ],
      "execution_count": 0,
      "outputs": []
    },
    {
      "metadata": {
        "id": "Eso6UHE080D4",
        "colab_type": "code",
        "colab": {}
      },
      "cell_type": "code",
      "source": [
        "import numpy as np\n",
        "\n",
        "from keras.models import Sequential\n",
        "from keras.layers import Dense, Dropout, Activation, Flatten, Add\n",
        "from keras.layers import Convolution2D, MaxPooling2D,  BatchNormalization\n",
        "from keras.utils import np_utils\n",
        "from keras.callbacks import ModelCheckpoint\n",
        "from keras.datasets import mnist"
      ],
      "execution_count": 0,
      "outputs": []
    },
    {
      "metadata": {
        "id": "zByEi95J86RD",
        "colab_type": "text"
      },
      "cell_type": "markdown",
      "source": [
        "### Load pre-shuffled MNIST data into train and test sets"
      ]
    },
    {
      "metadata": {
        "id": "7eRM0QWN83PV",
        "colab_type": "code",
        "colab": {}
      },
      "cell_type": "code",
      "source": [
        "(X_train, y_train), (X_test, y_test) = mnist.load_data()"
      ],
      "execution_count": 0,
      "outputs": []
    },
    {
      "metadata": {
        "id": "4a4Be72j8-ZC",
        "colab_type": "code",
        "outputId": "e6b142c5-daec-47fa-a4ac-28dbc10d63ed",
        "colab": {
          "base_uri": "https://localhost:8080/",
          "height": 299
        }
      },
      "cell_type": "code",
      "source": [
        "print (X_train.shape, y_train, X_test.shape, y_test)\n",
        "\n",
        "from matplotlib import pyplot as plt\n",
        "%matplotlib inline\n",
        "plt.imshow(X_train[1])"
      ],
      "execution_count": 0,
      "outputs": [
        {
          "output_type": "stream",
          "text": [
            "(60000, 28, 28) [5 0 4 ... 5 6 8] (10000, 28, 28) [7 2 1 ... 4 5 6]\n"
          ],
          "name": "stdout"
        },
        {
          "output_type": "execute_result",
          "data": {
            "text/plain": [
              "<matplotlib.image.AxesImage at 0x7ff9b496cbe0>"
            ]
          },
          "metadata": {
            "tags": []
          },
          "execution_count": 64
        },
        {
          "output_type": "display_data",
          "data": {
            "image/png": "[encoded data removed]",
            "text/plain": [
              "<Figure size 432x288 with 1 Axes>"
            ]
          },
          "metadata": {
            "tags": []
          }
        }
      ]
    },
    {
      "metadata": {
        "id": "dkmprriw9AnZ",
        "colab_type": "code",
        "colab": {}
      },
      "cell_type": "code",
      "source": [
        "X_train = X_train.reshape(X_train.shape[0], 28, 28,1)\n",
        "X_test = X_test.reshape(X_test.shape[0], 28, 28,1)"
      ],
      "execution_count": 0,
      "outputs": []
    },
    {
      "metadata": {
        "id": "X2m4YS4E9CRh",
        "colab_type": "code",
        "colab": {}
      },
      "cell_type": "code",
      "source": [
        "X_train = X_train.astype('float32')\n",
        "X_test = X_test.astype('float32')\n",
        "X_train /= 255\n",
        "X_test /= 255"
      ],
      "execution_count": 0,
      "outputs": []
    },
    {
      "metadata": {
        "id": "0Mn0vAYD9DvB",
        "colab_type": "code",
        "outputId": "67277a94-a8cc-455b-d9f5-932ad26ad222",
        "colab": {
          "base_uri": "https://localhost:8080/",
          "height": 34
        }
      },
      "cell_type": "code",
      "source": [
        "y_train[:10]"
      ],
      "execution_count": 0,
      "outputs": [
        {
          "output_type": "execute_result",
          "data": {
            "text/plain": [
              "array([5, 0, 4, 1, 9, 2, 1, 3, 1, 4], dtype=uint8)"
            ]
          },
          "metadata": {
            "tags": []
          },
          "execution_count": 67
        }
      ]
    },
    {
      "metadata": {
        "id": "ZG8JiXR39FHC",
        "colab_type": "code",
        "colab": {}
      },
      "cell_type": "code",
      "source": [
        "# Convert 1-dimensional class arrays to 10-dimensional class matrices\n",
        "Y_train = np_utils.to_categorical(y_train, 10)\n",
        "Y_test = np_utils.to_categorical(y_test, 10)"
      ],
      "execution_count": 0,
      "outputs": []
    },
    {
      "metadata": {
        "id": "fYlFRvKS9HMB",
        "colab_type": "code",
        "outputId": "0c4a3518-3b29-4b86-bf01-0531689a32d2",
        "colab": {
          "base_uri": "https://localhost:8080/",
          "height": 187
        }
      },
      "cell_type": "code",
      "source": [
        "Y_train[:10]\n"
      ],
      "execution_count": 0,
      "outputs": [
        {
          "output_type": "execute_result",
          "data": {
            "text/plain": [
              "array([[0., 0., 0., 0., 0., 1., 0., 0., 0., 0.],\n",
              "       [1., 0., 0., 0., 0., 0., 0., 0., 0., 0.],\n",
              "       [0., 0., 0., 0., 1., 0., 0., 0., 0., 0.],\n",
              "       [0., 1., 0., 0., 0., 0., 0., 0., 0., 0.],\n",
              "       [0., 0., 0., 0., 0., 0., 0., 0., 0., 1.],\n",
              "       [0., 0., 1., 0., 0., 0., 0., 0., 0., 0.],\n",
              "       [0., 1., 0., 0., 0., 0., 0., 0., 0., 0.],\n",
              "       [0., 0., 0., 1., 0., 0., 0., 0., 0., 0.],\n",
              "       [0., 1., 0., 0., 0., 0., 0., 0., 0., 0.],\n",
              "       [0., 0., 0., 0., 1., 0., 0., 0., 0., 0.]], dtype=float32)"
            ]
          },
          "metadata": {
            "tags": []
          },
          "execution_count": 69
        }
      ]
    },
    {
      "metadata": {
        "id": "osKqT73Q9JJB",
        "colab_type": "code",
        "outputId": "9dfc8cce-096c-4546-b236-5ceef85e51c1",
        "colab": {
          "base_uri": "https://localhost:8080/",
          "height": 241
        }
      },
      "cell_type": "code",
      "source": [
        "from keras.layers import Activation\n",
        "model = Sequential()\n",
        "\n",
        "model.add(Convolution2D(32, 3, 3, activation='relu', input_shape=(28,28,1)))\n",
        "model.add(Convolution2D(16, 3, 3, activation='relu'))\n",
        "model.add(Convolution2D(16, 3, 3, activation='relu'))\n",
        "model.add(MaxPooling2D(pool_size=(2,2)))\n",
        "model.add(Convolution2D(16, 3, 3, activation='relu'))\n",
        "model.add(Convolution2D(10, 3, 3, activation='relu'))\n",
        "model.add(Convolution2D(10, 7, 7, activation='relu' ))\n",
        "model.add(Convolution2D(10, 1, activation='relu'))\n",
        "model.add(Flatten())\n",
        "model.add(Activation('softmax'))"
      ],
      "execution_count": 0,
      "outputs": [
        {
          "output_type": "stream",
          "text": [
            "/usr/local/lib/python3.6/dist-packages/ipykernel_launcher.py:4: UserWarning: Update your `Conv2D` call to the Keras 2 API: `Conv2D(32, (3, 3), activation=\"relu\", input_shape=(28, 28, 1...)`\n",
            "  after removing the cwd from sys.path.\n",
            "/usr/local/lib/python3.6/dist-packages/ipykernel_launcher.py:5: UserWarning: Update your `Conv2D` call to the Keras 2 API: `Conv2D(16, (3, 3), activation=\"relu\")`\n",
            "  \"\"\"\n",
            "/usr/local/lib/python3.6/dist-packages/ipykernel_launcher.py:6: UserWarning: Update your `Conv2D` call to the Keras 2 API: `Conv2D(16, (3, 3), activation=\"relu\")`\n",
            "  \n",
            "/usr/local/lib/python3.6/dist-packages/ipykernel_launcher.py:8: UserWarning: Update your `Conv2D` call to the Keras 2 API: `Conv2D(16, (3, 3), activation=\"relu\")`\n",
            "  \n",
            "/usr/local/lib/python3.6/dist-packages/ipykernel_launcher.py:9: UserWarning: Update your `Conv2D` call to the Keras 2 API: `Conv2D(10, (3, 3), activation=\"relu\")`\n",
            "  if __name__ == '__main__':\n",
            "/usr/local/lib/python3.6/dist-packages/ipykernel_launcher.py:10: UserWarning: Update your `Conv2D` call to the Keras 2 API: `Conv2D(10, (7, 7), activation=\"relu\")`\n",
            "  # Remove the CWD from sys.path while we load stuff.\n"
          ],
          "name": "stderr"
        }
      ]
    },
    {
      "metadata": {
        "id": "TzdAYg1k9K7Z",
        "colab_type": "code",
        "outputId": "7ac44ba5-3a20-42ab-a7be-7ca56d98c57c",
        "colab": {
          "base_uri": "https://localhost:8080/",
          "height": 476
        }
      },
      "cell_type": "code",
      "source": [
        "model.summary()"
      ],
      "execution_count": 0,
      "outputs": [
        {
          "output_type": "stream",
          "text": [
            "_________________________________________________________________\n",
            "Layer (type)                 Output Shape              Param #   \n",
            "=================================================================\n",
            "conv2d_37 (Conv2D)           (None, 26, 26, 32)        320       \n",
            "_________________________________________________________________\n",
            "conv2d_38 (Conv2D)           (None, 24, 24, 16)        4624      \n",
            "_________________________________________________________________\n",
            "conv2d_39 (Conv2D)           (None, 22, 22, 16)        2320      \n",
            "_________________________________________________________________\n",
            "max_pooling2d_6 (MaxPooling2 (None, 11, 11, 16)        0         \n",
            "_________________________________________________________________\n",
            "conv2d_40 (Conv2D)           (None, 9, 9, 16)          2320      \n",
            "_________________________________________________________________\n",
            "conv2d_41 (Conv2D)           (None, 7, 7, 10)          1450      \n",
            "_________________________________________________________________\n",
            "conv2d_42 (Conv2D)           (None, 1, 1, 10)          4910      \n",
            "_________________________________________________________________\n",
            "conv2d_43 (Conv2D)           (None, 1, 1, 10)          110       \n",
            "_________________________________________________________________\n",
            "flatten_6 (Flatten)          (None, 10)                0         \n",
            "_________________________________________________________________\n",
            "activation_6 (Activation)    (None, 10)                0         \n",
            "=================================================================\n",
            "Total params: 16,054\n",
            "Trainable params: 16,054\n",
            "Non-trainable params: 0\n",
            "_________________________________________________________________\n"
          ],
          "name": "stdout"
        }
      ]
    },
    {
      "metadata": {
        "id": "5UGrCnIVWcmX",
        "colab_type": "code",
        "colab": {}
      },
      "cell_type": "code",
      "source": [
        "# Save the checkpoint in the /output folder\n",
        "filepath = \"3A_Sonu_best_only.hdf5\"\n",
        "\n",
        "# Keep only a single checkpoint, the best over test accuracy.\n",
        "checkpoint = ModelCheckpoint(filepath,\n",
        "                             monitor='val_acc',\n",
        "                             verbose=1,\n",
        "                             save_best_only=True,\n",
        "                             mode='max')"
      ],
      "execution_count": 0,
      "outputs": []
    },
    {
      "metadata": {
        "id": "Zp6SuGrL9M3h",
        "colab_type": "code",
        "colab": {}
      },
      "cell_type": "code",
      "source": [
        "model.compile(loss='categorical_crossentropy',\n",
        "             optimizer='adam',\n",
        "             metrics=['accuracy'])"
      ],
      "execution_count": 0,
      "outputs": []
    },
    {
      "metadata": {
        "id": "4xWoKhPY9Of5",
        "colab_type": "code",
        "outputId": "78e018e7-115e-4da9-e75c-b6a1b134d02c",
        "colab": {
          "base_uri": "https://localhost:8080/",
          "height": 1465
        }
      },
      "cell_type": "code",
      "source": [
        "model.fit(X_train, Y_train, batch_size=32, nb_epoch=20, verbose=1,\n",
        "          validation_data=(X_test, Y_test),\n",
        "          callbacks=[checkpoint])"
      ],
      "execution_count": 0,
      "outputs": [
        {
          "output_type": "stream",
          "text": [
            "/usr/local/lib/python3.6/dist-packages/ipykernel_launcher.py:3: UserWarning: The `nb_epoch` argument in `fit` has been renamed `epochs`.\n",
            "  This is separate from the ipykernel package so we can avoid doing imports until\n"
          ],
          "name": "stderr"
        },
        {
          "output_type": "stream",
          "text": [
            "Train on 60000 samples, validate on 10000 samples\n",
            "Epoch 1/20\n",
            "60000/60000 [==============================] - 22s 363us/step - loss: 0.3178 - acc: 0.9014 - val_loss: 0.0869 - val_acc: 0.9753\n",
            "\n",
            "Epoch 00001: val_acc improved from -inf to 0.97530, saving model to 3A_Sonu_best_only.hdf5\n",
            "Epoch 2/20\n",
            "60000/60000 [==============================] - 21s 345us/step - loss: 0.0728 - acc: 0.9781 - val_loss: 0.0637 - val_acc: 0.9808\n",
            "\n",
            "Epoch 00002: val_acc improved from 0.97530 to 0.98080, saving model to 3A_Sonu_best_only.hdf5\n",
            "Epoch 3/20\n",
            "60000/60000 [==============================] - 21s 345us/step - loss: 0.0528 - acc: 0.9847 - val_loss: 0.0442 - val_acc: 0.9865\n",
            "\n",
            "Epoch 00003: val_acc improved from 0.98080 to 0.98650, saving model to 3A_Sonu_best_only.hdf5\n",
            "Epoch 4/20\n",
            "60000/60000 [==============================] - 21s 346us/step - loss: 0.0428 - acc: 0.9872 - val_loss: 0.0360 - val_acc: 0.9876\n",
            "\n",
            "Epoch 00004: val_acc improved from 0.98650 to 0.98760, saving model to 3A_Sonu_best_only.hdf5\n",
            "Epoch 5/20\n",
            "60000/60000 [==============================] - 21s 344us/step - loss: 0.0376 - acc: 0.9884 - val_loss: 0.0403 - val_acc: 0.9871\n",
            "\n",
            "Epoch 00005: val_acc did not improve from 0.98760\n",
            "Epoch 6/20\n",
            "60000/60000 [==============================] - 21s 344us/step - loss: 0.0323 - acc: 0.9904 - val_loss: 0.0364 - val_acc: 0.9875\n",
            "\n",
            "Epoch 00006: val_acc did not improve from 0.98760\n",
            "Epoch 7/20\n",
            "60000/60000 [==============================] - 21s 345us/step - loss: 0.0291 - acc: 0.9908 - val_loss: 0.0291 - val_acc: 0.9908\n",
            "\n",
            "Epoch 00007: val_acc improved from 0.98760 to 0.99080, saving model to 3A_Sonu_best_only.hdf5\n",
            "Epoch 8/20\n",
            "60000/60000 [==============================] - 21s 345us/step - loss: 0.0255 - acc: 0.9920 - val_loss: 0.0387 - val_acc: 0.9876\n",
            "\n",
            "Epoch 00008: val_acc did not improve from 0.99080\n",
            "Epoch 9/20\n",
            "60000/60000 [==============================] - 21s 345us/step - loss: 0.0216 - acc: 0.9933 - val_loss: 0.0316 - val_acc: 0.9898\n",
            "\n",
            "Epoch 00009: val_acc did not improve from 0.99080\n",
            "Epoch 10/20\n",
            "60000/60000 [==============================] - 21s 346us/step - loss: 0.0204 - acc: 0.9932 - val_loss: 0.0350 - val_acc: 0.9893\n",
            "\n",
            "Epoch 00010: val_acc did not improve from 0.99080\n",
            "Epoch 11/20\n",
            "60000/60000 [==============================] - 21s 345us/step - loss: 0.0184 - acc: 0.9945 - val_loss: 0.0314 - val_acc: 0.9905\n",
            "\n",
            "Epoch 00011: val_acc did not improve from 0.99080\n",
            "Epoch 12/20\n",
            "60000/60000 [==============================] - 21s 345us/step - loss: 0.0168 - acc: 0.9944 - val_loss: 0.0326 - val_acc: 0.9913\n",
            "\n",
            "Epoch 00012: val_acc improved from 0.99080 to 0.99130, saving model to 3A_Sonu_best_only.hdf5\n",
            "Epoch 13/20\n",
            "60000/60000 [==============================] - 21s 345us/step - loss: 0.0154 - acc: 0.9947 - val_loss: 0.0411 - val_acc: 0.9894\n",
            "\n",
            "Epoch 00013: val_acc did not improve from 0.99130\n",
            "Epoch 14/20\n",
            "60000/60000 [==============================] - 21s 345us/step - loss: 0.0141 - acc: 0.9955 - val_loss: 0.0312 - val_acc: 0.9922\n",
            "\n",
            "Epoch 00014: val_acc improved from 0.99130 to 0.99220, saving model to 3A_Sonu_best_only.hdf5\n",
            "Epoch 15/20\n",
            "60000/60000 [==============================] - 21s 344us/step - loss: 0.0146 - acc: 0.9953 - val_loss: 0.0336 - val_acc: 0.9911\n",
            "\n",
            "Epoch 00015: val_acc did not improve from 0.99220\n",
            "Epoch 16/20\n",
            "60000/60000 [==============================] - 21s 345us/step - loss: 0.0123 - acc: 0.9961 - val_loss: 0.0301 - val_acc: 0.9918\n",
            "\n",
            "Epoch 00016: val_acc did not improve from 0.99220\n",
            "Epoch 17/20\n",
            "60000/60000 [==============================] - 21s 345us/step - loss: 0.0115 - acc: 0.9966 - val_loss: 0.0379 - val_acc: 0.9903\n",
            "\n",
            "Epoch 00017: val_acc did not improve from 0.99220\n",
            "Epoch 18/20\n",
            "60000/60000 [==============================] - 21s 345us/step - loss: 0.0117 - acc: 0.9963 - val_loss: 0.0371 - val_acc: 0.9893\n",
            "\n",
            "Epoch 00018: val_acc did not improve from 0.99220\n",
            "Epoch 19/20\n",
            "60000/60000 [==============================] - 21s 345us/step - loss: 0.0101 - acc: 0.9968 - val_loss: 0.0326 - val_acc: 0.9910\n",
            "\n",
            "Epoch 00019: val_acc did not improve from 0.99220\n",
            "Epoch 20/20\n",
            "60000/60000 [==============================] - 21s 345us/step - loss: 0.0099 - acc: 0.9967 - val_loss: 0.0462 - val_acc: 0.9893\n",
            "\n",
            "Epoch 00020: val_acc did not improve from 0.99220\n"
          ],
          "name": "stdout"
        },
        {
          "output_type": "execute_result",
          "data": {
            "text/plain": [
              "<keras.callbacks.History at 0x7ff9b4682a90>"
            ]
          },
          "metadata": {
            "tags": []
          },
          "execution_count": 76
        }
      ]
    },
    {
      "metadata": {
        "id": "AtsH-lLk-eLb",
        "colab_type": "code",
        "colab": {}
      },
      "cell_type": "code",
      "source": [
        "model.load_weights(filepath)\n",
        "score = model.evaluate(X_test, Y_test, verbose=0)"
      ],
      "execution_count": 0,
      "outputs": []
    },
    {
      "metadata": {
        "id": "mkX8JMv79q9r",
        "colab_type": "code",
        "outputId": "e410af8e-8e39-45c8-b613-b0c8bf85a8d7",
        "colab": {
          "base_uri": "https://localhost:8080/",
          "height": 51
        }
      },
      "cell_type": "code",
      "source": [
        "print('Test loss:', score[0])\n",
        "print('Test accuracy:', score[1])"
      ],
      "execution_count": 0,
      "outputs": [
        {
          "output_type": "stream",
          "text": [
            "Test loss: 0.031235827127792437\n",
            "Test accuracy: 0.9922\n"
          ],
          "name": "stdout"
        }
      ]
    },
    {
      "metadata": {
        "id": "OCWoJkwE9suh",
        "colab_type": "code",
        "colab": {}
      },
      "cell_type": "code",
      "source": [
        "y_pred = model.predict(X_test)"
      ],
      "execution_count": 0,
      "outputs": []
    },
    {
      "metadata": {
        "id": "HKeGrkPPcPI3",
        "colab_type": "code",
        "outputId": "17bdb142-57a5-4495-8352-2e1b86784d45",
        "colab": {
          "base_uri": "https://localhost:8080/",
          "height": 34
        }
      },
      "cell_type": "code",
      "source": [
        "# Save the trained weights in to .h5 format\n",
        "model.save_weights(filepath)\n",
        "print(\"Saved model to disk\")"
      ],
      "execution_count": 0,
      "outputs": [
        {
          "output_type": "stream",
          "text": [
            "Saved model to disk\n"
          ],
          "name": "stdout"
        }
      ]
    }
  ]
}