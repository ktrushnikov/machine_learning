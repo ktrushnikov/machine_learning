{
  "nbformat": 4,
  "nbformat_minor": 0,
  "metadata": {
    "colab": {
      "name": "Batch_6_3C_Sonu_Giri.ipynb",
      "version": "0.3.2",
      "provenance": [],
      "collapsed_sections": []
    },
    "kernelspec": {
      "name": "python3",
      "display_name": "Python 3"
    },
    "accelerator": "GPU"
  },
  "cells": [
    {
      "metadata": {
        "id": "8edSiHPi2N5l",
        "colab_type": "code",
        "outputId": "7c0d2403-750a-472f-e1d8-54895f799e1a",
        "colab": {
          "base_uri": "https://localhost:8080/",
          "height": 34
        }
      },
      "cell_type": "code",
      "source": [
        "# Sonu Giri\n",
        "# sonugiri1043@gmail.com\n",
        "#\n",
        "# https://keras.io/\n",
        "\n",
        "!pip install -q keras\n",
        "import keras\n",
        "\n",
        "import keras\n",
        "from keras.datasets import cifar10\n",
        "from keras.models import Model, Sequential\n",
        "from keras.layers import Dense, Flatten, Input, Activation\n",
        "from keras.layers import Conv2D, MaxPooling2D, BatchNormalization\n",
        "from keras.optimizers import Adam\n",
        "from keras.layers.advanced_activations import LeakyReLU\n",
        "from keras.layers import Activation, Conv2D, Input, MaxPooling2D, BatchNormalization, Flatten, Lambda\n",
        "from keras.layers.merge import concatenate\n",
        "\n",
        "# this part will prevent tensorflow to allocate all the avaliable GPU Memory\n",
        "# backend\n",
        "import tensorflow as tf\n",
        "from keras import backend as k\n",
        "# Don't pre-allocate memory; allocate as-needed\n",
        "config = tf.ConfigProto()\n",
        "config.gpu_options.allow_growth = True\n",
        "\n",
        "# Create a session with the above options specified.\n",
        "k.tensorflow_backend.set_session(tf.Session(config=config))\n",
        "\n",
        "# Hyperparameters\n",
        "batch_size = 256\n",
        "num_classes = 10\n",
        "epochs = 50\n",
        "l = 10"
      ],
      "execution_count": 2,
      "outputs": [
        {
          "output_type": "stream",
          "text": [
            "Using TensorFlow backend.\n"
          ],
          "name": "stderr"
        }
      ]
    },
    {
      "metadata": {
        "id": "-hkvQwOH2cCO",
        "colab_type": "code",
        "colab": {
          "base_uri": "https://localhost:8080/",
          "height": 51
        },
        "outputId": "c36a6dbf-1d3d-4387-d2be-a72e8bb11a9c"
      },
      "cell_type": "code",
      "source": [
        "# Load CIFAR10 Data\n",
        "(x_train, y_train), (x_test, y_test) = cifar10.load_data()\n",
        "img_height, img_width, channel = x_train.shape[1],x_train.shape[2],x_train.shape[3]\n",
        "\n",
        "# convert to one hot encoing \n",
        "y_train = keras.utils.to_categorical(y_train, num_classes)\n",
        "y_test = keras.utils.to_categorical(y_test, num_classes)"
      ],
      "execution_count": 3,
      "outputs": [
        {
          "output_type": "stream",
          "text": [
            "Downloading data from https://www.cs.toronto.edu/~kriz/cifar-10-python.tar.gz\n",
            "170500096/170498071 [==============================] - 339s 2us/step\n"
          ],
          "name": "stdout"
        }
      ]
    },
    {
      "metadata": {
        "id": "Oc6sH74HdN31",
        "colab_type": "code",
        "colab": {
          "base_uri": "https://localhost:8080/",
          "height": 34
        },
        "outputId": "848ce77e-fe51-4de3-efca-91f30958e37a"
      },
      "cell_type": "code",
      "source": [
        "print( img_height, img_width, channel )"
      ],
      "execution_count": 32,
      "outputs": [
        {
          "output_type": "stream",
          "text": [
            "32 32 3\n"
          ],
          "name": "stdout"
        }
      ]
    },
    {
      "metadata": {
        "id": "ztoDypc63gEs",
        "colab_type": "code",
        "colab": {}
      },
      "cell_type": "code",
      "source": [
        "def space_to_depth_x2(x):\n",
        "    return tf.space_to_depth(x, block_size=8)"
      ],
      "execution_count": 0,
      "outputs": []
    },
    {
      "metadata": {
        "id": "SNnGm8Tv2fR1",
        "colab_type": "code",
        "colab": {}
      },
      "cell_type": "code",
      "source": [
        "input = Input(shape=(img_height, img_width, channel,))\n",
        " \n",
        "def blockBuilder( blockNum, inputToBlock, layerInEachBlock=5 ):\n",
        "  # layer 1\n",
        "  name = str( blockNum* layerInEachBlock + 1 )\n",
        "  layer1 = Conv2D(32, (3,3), strides=(1,1), padding='same', name='conv_%s' % name, use_bias=False)(inputToBlock)\n",
        "  layer1 = BatchNormalization(name='norm_%s' % name )(layer1)\n",
        "  layer1 = LeakyReLU(name=\"leaky_relu_%s\" % name, alpha=0.1)(layer1)\n",
        "  \n",
        "  # layer 2\n",
        "  name = str( blockNum* layerInEachBlock + 2 )\n",
        "  layer2 = Conv2D(64, (3,3), strides=(1,1), padding='same', name='conv_%s' % name, use_bias=False)(layer1)\n",
        "  layer2 = BatchNormalization(name='norm_%s' % name )(layer2)\n",
        "  layer2 = LeakyReLU(name=\"leaky_relu_%s\" % name, alpha=0.1)(layer2)\n",
        "  \n",
        "  # layer 3\n",
        "  name = str( blockNum* layerInEachBlock + 3 )\n",
        "  layer3 = Conv2D(128, (3,3), strides=(1,1), padding='same', name='conv_%s' % name, use_bias=False)(layer2)\n",
        "  layer3 = BatchNormalization(name='norm_%s' % name )(layer3)\n",
        "  layer3 = LeakyReLU(name=\"leaky_relu_%s\" % name, alpha=0.1)(layer3)\n",
        "  \n",
        "  # layer 4\n",
        "  name = str( blockNum* layerInEachBlock + 4 )\n",
        "  layer4 = Conv2D(256, (3,3), strides=(1,1), padding='same', name='conv_%s' % name, use_bias=False)(layer3)\n",
        "  layer4 = BatchNormalization(name='norm_%s' % name )(layer4)\n",
        "  layer4 = LeakyReLU(name=\"leaky_relu_%s\" % name, alpha=0.1)(layer4)\n",
        "  \n",
        "  # layer 5\n",
        "  name = str( blockNum* layerInEachBlock + 5 )\n",
        "  layer5 = Conv2D(512, (3,3), strides=(1,1), padding='same', name='conv_%s' % name, use_bias=False)(layer4)\n",
        "  layer5 = BatchNormalization(name='norm_%s' % name )(layer5)\n",
        "  layer5 = LeakyReLU(name=\"leaky_relu_%s\" % name, alpha=0.1)(layer5)\n",
        " \n",
        "  # MP after layer 5\n",
        "  layer5 = MaxPooling2D(name=\"max_pool_%s\" % name, pool_size=(2, 2))(layer5)\n",
        "  return layer5\n",
        "\n",
        "# Block num starts from 0\n",
        "# block 1\n",
        "block0 = blockBuilder( blockNum=0, inputToBlock=input )\n",
        "skip_connection = block0\n",
        "# block 2\n",
        "block1 = blockBuilder( blockNum=1, inputToBlock=block0 )\n",
        "# block 3\n",
        "block2 = blockBuilder( blockNum=2, inputToBlock=block1 )\n",
        "# block 4\n",
        "block3 = blockBuilder( blockNum=3, inputToBlock=block2 )\n",
        "\n",
        "# skip connection from block 1\n",
        "skip_connection = Conv2D(64, (1,1), strides=(1,1), padding='same', name='conv_skip', use_bias=False)(skip_connection)\n",
        "skip_connection = BatchNormalization(name='norm_skip')(skip_connection)\n",
        "skip_connection = LeakyReLU(name=\"relu_skip\", alpha=0.1)(skip_connection)\n",
        "skip_connection = Lambda( space_to_depth_x2, name=\"lambda_skip\")(skip_connection)\n",
        "\n",
        "concatLayer = concatenate([skip_connection, block3])\n",
        "\n",
        "# flatten layer\n",
        "flattenLayer = Flatten()(concatLayer)\n",
        "output = Dense(num_classes, activation='softmax')(flattenLayer)"
      ],
      "execution_count": 0,
      "outputs": []
    },
    {
      "metadata": {
        "id": "Jeh0VAxy26NV",
        "colab_type": "code",
        "outputId": "b4fb37b5-5bbb-48e7-9e19-1d76e84762f4",
        "colab": {
          "base_uri": "https://localhost:8080/",
          "height": 2601
        }
      },
      "cell_type": "code",
      "source": [
        "model = Model(inputs=[input], outputs=[output])\n",
        "model.summary()"
      ],
      "execution_count": 39,
      "outputs": [
        {
          "output_type": "stream",
          "text": [
            "__________________________________________________________________________________________________\n",
            "Layer (type)                    Output Shape         Param #     Connected to                     \n",
            "==================================================================================================\n",
            "input_10 (InputLayer)           (None, 32, 32, 3)    0                                            \n",
            "__________________________________________________________________________________________________\n",
            "conv_1 (Conv2D)                 (None, 32, 32, 32)   864         input_10[0][0]                   \n",
            "__________________________________________________________________________________________________\n",
            "norm_1 (BatchNormalization)     (None, 32, 32, 32)   128         conv_1[0][0]                     \n",
            "__________________________________________________________________________________________________\n",
            "leaky_relu_1 (LeakyReLU)        (None, 32, 32, 32)   0           norm_1[0][0]                     \n",
            "__________________________________________________________________________________________________\n",
            "conv_2 (Conv2D)                 (None, 32, 32, 64)   18432       leaky_relu_1[0][0]               \n",
            "__________________________________________________________________________________________________\n",
            "norm_2 (BatchNormalization)     (None, 32, 32, 64)   256         conv_2[0][0]                     \n",
            "__________________________________________________________________________________________________\n",
            "leaky_relu_2 (LeakyReLU)        (None, 32, 32, 64)   0           norm_2[0][0]                     \n",
            "__________________________________________________________________________________________________\n",
            "conv_3 (Conv2D)                 (None, 32, 32, 128)  73728       leaky_relu_2[0][0]               \n",
            "__________________________________________________________________________________________________\n",
            "norm_3 (BatchNormalization)     (None, 32, 32, 128)  512         conv_3[0][0]                     \n",
            "__________________________________________________________________________________________________\n",
            "leaky_relu_3 (LeakyReLU)        (None, 32, 32, 128)  0           norm_3[0][0]                     \n",
            "__________________________________________________________________________________________________\n",
            "conv_4 (Conv2D)                 (None, 32, 32, 256)  294912      leaky_relu_3[0][0]               \n",
            "__________________________________________________________________________________________________\n",
            "norm_4 (BatchNormalization)     (None, 32, 32, 256)  1024        conv_4[0][0]                     \n",
            "__________________________________________________________________________________________________\n",
            "leaky_relu_4 (LeakyReLU)        (None, 32, 32, 256)  0           norm_4[0][0]                     \n",
            "__________________________________________________________________________________________________\n",
            "conv_5 (Conv2D)                 (None, 32, 32, 512)  1179648     leaky_relu_4[0][0]               \n",
            "__________________________________________________________________________________________________\n",
            "norm_5 (BatchNormalization)     (None, 32, 32, 512)  2048        conv_5[0][0]                     \n",
            "__________________________________________________________________________________________________\n",
            "leaky_relu_5 (LeakyReLU)        (None, 32, 32, 512)  0           norm_5[0][0]                     \n",
            "__________________________________________________________________________________________________\n",
            "max_pool_5 (MaxPooling2D)       (None, 16, 16, 512)  0           leaky_relu_5[0][0]               \n",
            "__________________________________________________________________________________________________\n",
            "conv_6 (Conv2D)                 (None, 16, 16, 32)   147456      max_pool_5[0][0]                 \n",
            "__________________________________________________________________________________________________\n",
            "norm_6 (BatchNormalization)     (None, 16, 16, 32)   128         conv_6[0][0]                     \n",
            "__________________________________________________________________________________________________\n",
            "leaky_relu_6 (LeakyReLU)        (None, 16, 16, 32)   0           norm_6[0][0]                     \n",
            "__________________________________________________________________________________________________\n",
            "conv_7 (Conv2D)                 (None, 16, 16, 64)   18432       leaky_relu_6[0][0]               \n",
            "__________________________________________________________________________________________________\n",
            "norm_7 (BatchNormalization)     (None, 16, 16, 64)   256         conv_7[0][0]                     \n",
            "__________________________________________________________________________________________________\n",
            "leaky_relu_7 (LeakyReLU)        (None, 16, 16, 64)   0           norm_7[0][0]                     \n",
            "__________________________________________________________________________________________________\n",
            "conv_8 (Conv2D)                 (None, 16, 16, 128)  73728       leaky_relu_7[0][0]               \n",
            "__________________________________________________________________________________________________\n",
            "norm_8 (BatchNormalization)     (None, 16, 16, 128)  512         conv_8[0][0]                     \n",
            "__________________________________________________________________________________________________\n",
            "leaky_relu_8 (LeakyReLU)        (None, 16, 16, 128)  0           norm_8[0][0]                     \n",
            "__________________________________________________________________________________________________\n",
            "conv_9 (Conv2D)                 (None, 16, 16, 256)  294912      leaky_relu_8[0][0]               \n",
            "__________________________________________________________________________________________________\n",
            "norm_9 (BatchNormalization)     (None, 16, 16, 256)  1024        conv_9[0][0]                     \n",
            "__________________________________________________________________________________________________\n",
            "leaky_relu_9 (LeakyReLU)        (None, 16, 16, 256)  0           norm_9[0][0]                     \n",
            "__________________________________________________________________________________________________\n",
            "conv_10 (Conv2D)                (None, 16, 16, 512)  1179648     leaky_relu_9[0][0]               \n",
            "__________________________________________________________________________________________________\n",
            "norm_10 (BatchNormalization)    (None, 16, 16, 512)  2048        conv_10[0][0]                    \n",
            "__________________________________________________________________________________________________\n",
            "leaky_relu_10 (LeakyReLU)       (None, 16, 16, 512)  0           norm_10[0][0]                    \n",
            "__________________________________________________________________________________________________\n",
            "max_pool_10 (MaxPooling2D)      (None, 8, 8, 512)    0           leaky_relu_10[0][0]              \n",
            "__________________________________________________________________________________________________\n",
            "conv_11 (Conv2D)                (None, 8, 8, 32)     147456      max_pool_10[0][0]                \n",
            "__________________________________________________________________________________________________\n",
            "norm_11 (BatchNormalization)    (None, 8, 8, 32)     128         conv_11[0][0]                    \n",
            "__________________________________________________________________________________________________\n",
            "leaky_relu_11 (LeakyReLU)       (None, 8, 8, 32)     0           norm_11[0][0]                    \n",
            "__________________________________________________________________________________________________\n",
            "conv_12 (Conv2D)                (None, 8, 8, 64)     18432       leaky_relu_11[0][0]              \n",
            "__________________________________________________________________________________________________\n",
            "norm_12 (BatchNormalization)    (None, 8, 8, 64)     256         conv_12[0][0]                    \n",
            "__________________________________________________________________________________________________\n",
            "leaky_relu_12 (LeakyReLU)       (None, 8, 8, 64)     0           norm_12[0][0]                    \n",
            "__________________________________________________________________________________________________\n",
            "conv_13 (Conv2D)                (None, 8, 8, 128)    73728       leaky_relu_12[0][0]              \n",
            "__________________________________________________________________________________________________\n",
            "norm_13 (BatchNormalization)    (None, 8, 8, 128)    512         conv_13[0][0]                    \n",
            "__________________________________________________________________________________________________\n",
            "leaky_relu_13 (LeakyReLU)       (None, 8, 8, 128)    0           norm_13[0][0]                    \n",
            "__________________________________________________________________________________________________\n",
            "conv_14 (Conv2D)                (None, 8, 8, 256)    294912      leaky_relu_13[0][0]              \n",
            "__________________________________________________________________________________________________\n",
            "norm_14 (BatchNormalization)    (None, 8, 8, 256)    1024        conv_14[0][0]                    \n",
            "__________________________________________________________________________________________________\n",
            "leaky_relu_14 (LeakyReLU)       (None, 8, 8, 256)    0           norm_14[0][0]                    \n",
            "__________________________________________________________________________________________________\n",
            "conv_15 (Conv2D)                (None, 8, 8, 512)    1179648     leaky_relu_14[0][0]              \n",
            "__________________________________________________________________________________________________\n",
            "norm_15 (BatchNormalization)    (None, 8, 8, 512)    2048        conv_15[0][0]                    \n",
            "__________________________________________________________________________________________________\n",
            "leaky_relu_15 (LeakyReLU)       (None, 8, 8, 512)    0           norm_15[0][0]                    \n",
            "__________________________________________________________________________________________________\n",
            "max_pool_15 (MaxPooling2D)      (None, 4, 4, 512)    0           leaky_relu_15[0][0]              \n",
            "__________________________________________________________________________________________________\n",
            "conv_16 (Conv2D)                (None, 4, 4, 32)     147456      max_pool_15[0][0]                \n",
            "__________________________________________________________________________________________________\n",
            "norm_16 (BatchNormalization)    (None, 4, 4, 32)     128         conv_16[0][0]                    \n",
            "__________________________________________________________________________________________________\n",
            "leaky_relu_16 (LeakyReLU)       (None, 4, 4, 32)     0           norm_16[0][0]                    \n",
            "__________________________________________________________________________________________________\n",
            "conv_17 (Conv2D)                (None, 4, 4, 64)     18432       leaky_relu_16[0][0]              \n",
            "__________________________________________________________________________________________________\n",
            "norm_17 (BatchNormalization)    (None, 4, 4, 64)     256         conv_17[0][0]                    \n",
            "__________________________________________________________________________________________________\n",
            "leaky_relu_17 (LeakyReLU)       (None, 4, 4, 64)     0           norm_17[0][0]                    \n",
            "__________________________________________________________________________________________________\n",
            "conv_18 (Conv2D)                (None, 4, 4, 128)    73728       leaky_relu_17[0][0]              \n",
            "__________________________________________________________________________________________________\n",
            "norm_18 (BatchNormalization)    (None, 4, 4, 128)    512         conv_18[0][0]                    \n",
            "__________________________________________________________________________________________________\n",
            "leaky_relu_18 (LeakyReLU)       (None, 4, 4, 128)    0           norm_18[0][0]                    \n",
            "__________________________________________________________________________________________________\n",
            "conv_19 (Conv2D)                (None, 4, 4, 256)    294912      leaky_relu_18[0][0]              \n",
            "__________________________________________________________________________________________________\n",
            "norm_19 (BatchNormalization)    (None, 4, 4, 256)    1024        conv_19[0][0]                    \n",
            "__________________________________________________________________________________________________\n",
            "leaky_relu_19 (LeakyReLU)       (None, 4, 4, 256)    0           norm_19[0][0]                    \n",
            "__________________________________________________________________________________________________\n",
            "conv_skip (Conv2D)              (None, 16, 16, 64)   32768       max_pool_5[0][0]                 \n",
            "__________________________________________________________________________________________________\n",
            "conv_20 (Conv2D)                (None, 4, 4, 512)    1179648     leaky_relu_19[0][0]              \n",
            "__________________________________________________________________________________________________\n",
            "norm_skip (BatchNormalization)  (None, 16, 16, 64)   256         conv_skip[0][0]                  \n",
            "__________________________________________________________________________________________________\n",
            "norm_20 (BatchNormalization)    (None, 4, 4, 512)    2048        conv_20[0][0]                    \n",
            "__________________________________________________________________________________________________\n",
            "relu_skip (LeakyReLU)           (None, 16, 16, 64)   0           norm_skip[0][0]                  \n",
            "__________________________________________________________________________________________________\n",
            "leaky_relu_20 (LeakyReLU)       (None, 4, 4, 512)    0           norm_20[0][0]                    \n",
            "__________________________________________________________________________________________________\n",
            "lambda_skip (Lambda)            (None, 2, 2, 4096)   0           relu_skip[0][0]                  \n",
            "__________________________________________________________________________________________________\n",
            "max_pool_20 (MaxPooling2D)      (None, 2, 2, 512)    0           leaky_relu_20[0][0]              \n",
            "__________________________________________________________________________________________________\n",
            "concatenate_9 (Concatenate)     (None, 2, 2, 4608)   0           lambda_skip[0][0]                \n",
            "                                                                 max_pool_20[0][0]                \n",
            "__________________________________________________________________________________________________\n",
            "flatten_7 (Flatten)             (None, 18432)        0           concatenate_9[0][0]              \n",
            "__________________________________________________________________________________________________\n",
            "dense_8 (Dense)                 (None, 10)           184330      flatten_7[0][0]                  \n",
            "==================================================================================================\n",
            "Total params: 6,943,338\n",
            "Trainable params: 6,935,274\n",
            "Non-trainable params: 8,064\n",
            "__________________________________________________________________________________________________\n"
          ],
          "name": "stdout"
        }
      ]
    },
    {
      "metadata": {
        "id": "apCwOjvZ4Kts",
        "colab_type": "code",
        "colab": {}
      },
      "cell_type": "code",
      "source": [
        "# determine Loss function and Optimizer\n",
        "model.compile(loss='categorical_crossentropy',\n",
        "              optimizer=Adam(),\n",
        "              metrics=['accuracy'])"
      ],
      "execution_count": 0,
      "outputs": []
    },
    {
      "metadata": {
        "id": "tLaFy2AO4TLl",
        "colab_type": "code",
        "outputId": "9d41268f-3fe5-4685-93be-b9a9659d80b3",
        "colab": {
          "base_uri": "https://localhost:8080/",
          "height": 391
        }
      },
      "cell_type": "code",
      "source": [
        "# epoch 1 - 10\n",
        "batch_size=128\n",
        "model.fit(x_train, y_train,\n",
        "                    batch_size=batch_size,\n",
        "                    epochs=10,\n",
        "                    verbose=1,\n",
        "                    validation_data=(x_test, y_test))"
      ],
      "execution_count": 41,
      "outputs": [
        {
          "output_type": "stream",
          "text": [
            "Train on 50000 samples, validate on 10000 samples\n",
            "Epoch 1/10\n",
            "50000/50000 [==============================] - 233s 5ms/step - loss: 1.6464 - acc: 0.4834 - val_loss: 2.3342 - val_acc: 0.5128\n",
            "Epoch 2/10\n",
            "50000/50000 [==============================] - 224s 4ms/step - loss: 0.9824 - acc: 0.6606 - val_loss: 0.9638 - val_acc: 0.6668\n",
            "Epoch 3/10\n",
            "50000/50000 [==============================] - 224s 4ms/step - loss: 0.7975 - acc: 0.7227 - val_loss: 1.1045 - val_acc: 0.6487\n",
            "Epoch 4/10\n",
            "50000/50000 [==============================] - 224s 4ms/step - loss: 0.6889 - acc: 0.7597 - val_loss: 1.3738 - val_acc: 0.6455\n",
            "Epoch 5/10\n",
            "50000/50000 [==============================] - 224s 4ms/step - loss: 0.5963 - acc: 0.7955 - val_loss: 1.0231 - val_acc: 0.6683\n",
            "Epoch 6/10\n",
            "50000/50000 [==============================] - 224s 4ms/step - loss: 0.5096 - acc: 0.8239 - val_loss: 0.8145 - val_acc: 0.7410\n",
            "Epoch 7/10\n",
            "50000/50000 [==============================] - 224s 4ms/step - loss: 0.4253 - acc: 0.8529 - val_loss: 0.9485 - val_acc: 0.7085\n",
            "Epoch 8/10\n",
            "50000/50000 [==============================] - 224s 4ms/step - loss: 0.3471 - acc: 0.8794 - val_loss: 1.1159 - val_acc: 0.6835\n",
            "Epoch 9/10\n",
            "50000/50000 [==============================] - 224s 4ms/step - loss: 0.2637 - acc: 0.9073 - val_loss: 1.1787 - val_acc: 0.6942\n",
            "Epoch 10/10\n",
            "50000/50000 [==============================] - 224s 4ms/step - loss: 0.2009 - acc: 0.9276 - val_loss: 1.1232 - val_acc: 0.7134\n"
          ],
          "name": "stdout"
        },
        {
          "output_type": "execute_result",
          "data": {
            "text/plain": [
              "<keras.callbacks.History at 0x7fc9b3dba828>"
            ]
          },
          "metadata": {
            "tags": []
          },
          "execution_count": 41
        }
      ]
    },
    {
      "metadata": {
        "id": "UD3oTJsECQn4",
        "colab_type": "code",
        "colab": {
          "base_uri": "https://localhost:8080/",
          "height": 391
        },
        "outputId": "2ad2eeff-e748-4f6f-abfc-8eaed8e63ad5"
      },
      "cell_type": "code",
      "source": [
        "# epoch 11 - 20\n",
        "batch_size=128\n",
        "model.fit(x_train, y_train,\n",
        "                    batch_size=batch_size,\n",
        "                    epochs=10,\n",
        "                    verbose=1,\n",
        "                    validation_data=(x_test, y_test))"
      ],
      "execution_count": 42,
      "outputs": [
        {
          "output_type": "stream",
          "text": [
            "Train on 50000 samples, validate on 10000 samples\n",
            "Epoch 1/10\n",
            "50000/50000 [==============================] - 224s 4ms/step - loss: 0.1568 - acc: 0.9444 - val_loss: 1.1658 - val_acc: 0.7285\n",
            "Epoch 2/10\n",
            "50000/50000 [==============================] - 224s 4ms/step - loss: 0.1286 - acc: 0.9545 - val_loss: 1.1984 - val_acc: 0.7235\n",
            "Epoch 3/10\n",
            "50000/50000 [==============================] - 224s 4ms/step - loss: 0.0956 - acc: 0.9671 - val_loss: 1.3386 - val_acc: 0.7273\n",
            "Epoch 4/10\n",
            "50000/50000 [==============================] - 224s 4ms/step - loss: 0.0886 - acc: 0.9693 - val_loss: 1.4234 - val_acc: 0.7251\n",
            "Epoch 5/10\n",
            "50000/50000 [==============================] - 224s 4ms/step - loss: 0.0865 - acc: 0.9688 - val_loss: 1.9879 - val_acc: 0.6597\n",
            "Epoch 6/10\n",
            "50000/50000 [==============================] - 224s 4ms/step - loss: 0.0761 - acc: 0.9732 - val_loss: 1.3055 - val_acc: 0.7480\n",
            "Epoch 7/10\n",
            "50000/50000 [==============================] - 224s 4ms/step - loss: 0.0566 - acc: 0.9808 - val_loss: 1.3181 - val_acc: 0.7384\n",
            "Epoch 8/10\n",
            "50000/50000 [==============================] - 224s 4ms/step - loss: 0.0675 - acc: 0.9768 - val_loss: 1.7300 - val_acc: 0.7098\n",
            "Epoch 9/10\n",
            "50000/50000 [==============================] - 224s 4ms/step - loss: 0.0757 - acc: 0.9733 - val_loss: 1.6362 - val_acc: 0.7079\n",
            "Epoch 10/10\n",
            "50000/50000 [==============================] - 224s 4ms/step - loss: 0.0552 - acc: 0.9804 - val_loss: 1.3458 - val_acc: 0.7485\n"
          ],
          "name": "stdout"
        },
        {
          "output_type": "execute_result",
          "data": {
            "text/plain": [
              "<keras.callbacks.History at 0x7fc9b5282d68>"
            ]
          },
          "metadata": {
            "tags": []
          },
          "execution_count": 42
        }
      ]
    },
    {
      "metadata": {
        "id": "rb4TN-M8FUgu",
        "colab_type": "code",
        "colab": {
          "base_uri": "https://localhost:8080/",
          "height": 391
        },
        "outputId": "1a4bdeb1-3be8-4bbd-bcfe-d83300c6f4dd"
      },
      "cell_type": "code",
      "source": [
        "# epoch 21 - 30\n",
        "batch_size=128\n",
        "model.fit(x_train, y_train,\n",
        "                    batch_size=batch_size,\n",
        "                    epochs=10,\n",
        "                    verbose=1,\n",
        "                    validation_data=(x_test, y_test))"
      ],
      "execution_count": 43,
      "outputs": [
        {
          "output_type": "stream",
          "text": [
            "Train on 50000 samples, validate on 10000 samples\n",
            "Epoch 1/10\n",
            "50000/50000 [==============================] - 224s 4ms/step - loss: 0.0328 - acc: 0.9888 - val_loss: 2.0006 - val_acc: 0.6982\n",
            "Epoch 2/10\n",
            "50000/50000 [==============================] - 224s 4ms/step - loss: 0.0411 - acc: 0.9860 - val_loss: 1.6389 - val_acc: 0.7360\n",
            "Epoch 3/10\n",
            "50000/50000 [==============================] - 224s 4ms/step - loss: 0.0599 - acc: 0.9788 - val_loss: 1.5536 - val_acc: 0.7337\n",
            "Epoch 4/10\n",
            "50000/50000 [==============================] - 224s 4ms/step - loss: 0.0617 - acc: 0.9788 - val_loss: 1.5100 - val_acc: 0.7411\n",
            "Epoch 5/10\n",
            "50000/50000 [==============================] - 224s 4ms/step - loss: 0.0378 - acc: 0.9871 - val_loss: 1.6321 - val_acc: 0.7387\n",
            "Epoch 6/10\n",
            "50000/50000 [==============================] - 224s 4ms/step - loss: 0.0345 - acc: 0.9880 - val_loss: 1.6626 - val_acc: 0.7320\n",
            "Epoch 7/10\n",
            "50000/50000 [==============================] - 224s 4ms/step - loss: 0.0260 - acc: 0.9910 - val_loss: 1.7616 - val_acc: 0.7383\n",
            "Epoch 8/10\n",
            "50000/50000 [==============================] - 224s 4ms/step - loss: 0.0419 - acc: 0.9854 - val_loss: 1.6626 - val_acc: 0.7296\n",
            "Epoch 9/10\n",
            "50000/50000 [==============================] - 224s 4ms/step - loss: 0.0546 - acc: 0.9809 - val_loss: 1.8350 - val_acc: 0.7306\n",
            "Epoch 10/10\n",
            "50000/50000 [==============================] - 225s 4ms/step - loss: 0.0314 - acc: 0.9893 - val_loss: 1.6031 - val_acc: 0.7443\n"
          ],
          "name": "stdout"
        },
        {
          "output_type": "execute_result",
          "data": {
            "text/plain": [
              "<keras.callbacks.History at 0x7fc9b1fec7b8>"
            ]
          },
          "metadata": {
            "tags": []
          },
          "execution_count": 43
        }
      ]
    },
    {
      "metadata": {
        "id": "SnIxMrbyFVSi",
        "colab_type": "code",
        "colab": {
          "base_uri": "https://localhost:8080/",
          "height": 391
        },
        "outputId": "c1fb5ee8-f5ba-4a7c-d47b-6c62624898ea"
      },
      "cell_type": "code",
      "source": [
        "# epoch 31 - 40\n",
        "batch_size=128\n",
        "model.fit(x_train, y_train,\n",
        "                    batch_size=batch_size,\n",
        "                    epochs=10,\n",
        "                    verbose=1,\n",
        "                    validation_data=(x_test, y_test))"
      ],
      "execution_count": 44,
      "outputs": [
        {
          "output_type": "stream",
          "text": [
            "Train on 50000 samples, validate on 10000 samples\n",
            "Epoch 1/10\n",
            "50000/50000 [==============================] - 225s 4ms/step - loss: 0.0268 - acc: 0.9903 - val_loss: 1.6831 - val_acc: 0.7479\n",
            "Epoch 2/10\n",
            "50000/50000 [==============================] - 224s 4ms/step - loss: 0.0389 - acc: 0.9867 - val_loss: 1.6753 - val_acc: 0.7378\n",
            "Epoch 3/10\n",
            "50000/50000 [==============================] - 225s 4ms/step - loss: 0.0348 - acc: 0.9879 - val_loss: 1.6464 - val_acc: 0.7430\n",
            "Epoch 4/10\n",
            "50000/50000 [==============================] - 225s 4ms/step - loss: 0.0215 - acc: 0.9926 - val_loss: 1.7815 - val_acc: 0.7414\n",
            "Epoch 5/10\n",
            "50000/50000 [==============================] - 224s 4ms/step - loss: 0.0226 - acc: 0.9922 - val_loss: 1.8032 - val_acc: 0.7330\n",
            "Epoch 6/10\n",
            "50000/50000 [==============================] - 224s 4ms/step - loss: 0.0307 - acc: 0.9888 - val_loss: 1.9689 - val_acc: 0.7265\n",
            "Epoch 7/10\n",
            "50000/50000 [==============================] - 224s 4ms/step - loss: 0.0306 - acc: 0.9893 - val_loss: 1.8159 - val_acc: 0.7352\n",
            "Epoch 8/10\n",
            "50000/50000 [==============================] - 225s 4ms/step - loss: 0.0311 - acc: 0.9888 - val_loss: 1.9161 - val_acc: 0.7252\n",
            "Epoch 9/10\n",
            "50000/50000 [==============================] - 224s 4ms/step - loss: 0.0277 - acc: 0.9900 - val_loss: 1.7246 - val_acc: 0.7420\n",
            "Epoch 10/10\n",
            "50000/50000 [==============================] - 224s 4ms/step - loss: 0.0249 - acc: 0.9914 - val_loss: 1.8279 - val_acc: 0.7367\n"
          ],
          "name": "stdout"
        },
        {
          "output_type": "execute_result",
          "data": {
            "text/plain": [
              "<keras.callbacks.History at 0x7fc9b22c40f0>"
            ]
          },
          "metadata": {
            "tags": []
          },
          "execution_count": 44
        }
      ]
    },
    {
      "metadata": {
        "id": "gpCzgPVPFVmP",
        "colab_type": "code",
        "colab": {
          "base_uri": "https://localhost:8080/",
          "height": 391
        },
        "outputId": "eb16fa95-61b2-48ca-b8a9-758a4fea6780"
      },
      "cell_type": "code",
      "source": [
        "# epoch 41 - 50\n",
        "batch_size=128\n",
        "model.fit(x_train, y_train,\n",
        "                    batch_size=batch_size,\n",
        "                    epochs=10,\n",
        "                    verbose=1,\n",
        "                    validation_data=(x_test, y_test))"
      ],
      "execution_count": 45,
      "outputs": [
        {
          "output_type": "stream",
          "text": [
            "Train on 50000 samples, validate on 10000 samples\n",
            "Epoch 1/10\n",
            "50000/50000 [==============================] - 224s 4ms/step - loss: 0.0187 - acc: 0.9934 - val_loss: 1.7842 - val_acc: 0.7444\n",
            "Epoch 2/10\n",
            "50000/50000 [==============================] - 224s 4ms/step - loss: 0.0212 - acc: 0.9922 - val_loss: 1.8046 - val_acc: 0.7477\n",
            "Epoch 3/10\n",
            "50000/50000 [==============================] - 224s 4ms/step - loss: 0.0268 - acc: 0.9909 - val_loss: 2.0151 - val_acc: 0.7242\n",
            "Epoch 4/10\n",
            "50000/50000 [==============================] - 224s 4ms/step - loss: 0.0281 - acc: 0.9900 - val_loss: 1.9072 - val_acc: 0.7368\n",
            "Epoch 5/10\n",
            "50000/50000 [==============================] - 224s 4ms/step - loss: 0.0140 - acc: 0.9951 - val_loss: 1.9106 - val_acc: 0.7412\n",
            "Epoch 6/10\n",
            "50000/50000 [==============================] - 224s 4ms/step - loss: 0.0234 - acc: 0.9920 - val_loss: 1.8773 - val_acc: 0.7393\n",
            "Epoch 7/10\n",
            "50000/50000 [==============================] - 224s 4ms/step - loss: 0.0235 - acc: 0.9918 - val_loss: 1.9124 - val_acc: 0.7411\n",
            "Epoch 8/10\n",
            "50000/50000 [==============================] - 224s 4ms/step - loss: 0.0142 - acc: 0.9952 - val_loss: 1.8665 - val_acc: 0.7378\n",
            "Epoch 9/10\n",
            "50000/50000 [==============================] - 224s 4ms/step - loss: 0.0173 - acc: 0.9940 - val_loss: 2.0498 - val_acc: 0.7271\n",
            "Epoch 10/10\n",
            "50000/50000 [==============================] - 224s 4ms/step - loss: 0.0313 - acc: 0.9899 - val_loss: 1.9550 - val_acc: 0.7438\n"
          ],
          "name": "stdout"
        },
        {
          "output_type": "execute_result",
          "data": {
            "text/plain": [
              "<keras.callbacks.History at 0x7fc9b1fecba8>"
            ]
          },
          "metadata": {
            "tags": []
          },
          "execution_count": 45
        }
      ]
    },
    {
      "metadata": {
        "id": "pTfZIGrf4Uyd",
        "colab_type": "code",
        "outputId": "df7e383d-e8a5-47f3-dbfd-64668e7e051a",
        "colab": {
          "base_uri": "https://localhost:8080/",
          "height": 68
        }
      },
      "cell_type": "code",
      "source": [
        "# Test the model\n",
        "score = model.evaluate(x_test, y_test, verbose=1)\n",
        "print('Test loss:', score[0])\n",
        "print('Test accuracy:', score[1])"
      ],
      "execution_count": 46,
      "outputs": [
        {
          "output_type": "stream",
          "text": [
            "10000/10000 [==============================] - 18s 2ms/step\n",
            "Test loss: 1.9549589955329896\n",
            "Test accuracy: 0.7438\n"
          ],
          "name": "stdout"
        }
      ]
    },
    {
      "metadata": {
        "id": "Jiyb9TlVGsZs",
        "colab_type": "code",
        "outputId": "32011a99-b60b-4ab8-828b-11d0ddb5ca17",
        "colab": {
          "base_uri": "https://localhost:8080/",
          "height": 34
        }
      },
      "cell_type": "code",
      "source": [
        "# Save the trained weights in to .h5 format\n",
        "model.save_weights(\"Yolo_Basic_model_.h5\")\n",
        "print(\"Saved the model to disk\")"
      ],
      "execution_count": 47,
      "outputs": [
        {
          "output_type": "stream",
          "text": [
            "Saved the model to disk\n"
          ],
          "name": "stdout"
        }
      ]
    }
  ]
}